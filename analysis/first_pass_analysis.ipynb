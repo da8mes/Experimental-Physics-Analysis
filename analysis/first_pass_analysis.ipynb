{
 "cells": [
  {
   "cell_type": "code",
   "execution_count": 107,
   "metadata": {},
   "outputs": [],
   "source": [
    "# this is a first pass analysis of gamma cross sections data \n",
    "\n",
    "from os import listdir\n",
    "from os.path import isfile, join\n",
    "import matplotlib.pylab as plt\n",
    "import numpy as np\n",
    "import pandas as pd\n",
    "from scipy.optimize import curve_fit\n",
    "from scipy.integrate import quad as int_quad"
   ]
  },
  {
   "cell_type": "code",
   "execution_count": 43,
   "metadata": {},
   "outputs": [
    {
     "name": "stdout",
     "output_type": "stream",
     "text": [
      "Index(['Channel', 'Counts'], dtype='object')\n"
     ]
    },
    {
     "data": {
      "text/html": [
       "<div>\n",
       "<style scoped>\n",
       "    .dataframe tbody tr th:only-of-type {\n",
       "        vertical-align: middle;\n",
       "    }\n",
       "\n",
       "    .dataframe tbody tr th {\n",
       "        vertical-align: top;\n",
       "    }\n",
       "\n",
       "    .dataframe thead th {\n",
       "        text-align: right;\n",
       "    }\n",
       "</style>\n",
       "<table border=\"1\" class=\"dataframe\">\n",
       "  <thead>\n",
       "    <tr style=\"text-align: right;\">\n",
       "      <th></th>\n",
       "      <th>Channel</th>\n",
       "      <th>Counts</th>\n",
       "    </tr>\n",
       "  </thead>\n",
       "  <tbody>\n",
       "    <tr>\n",
       "      <th>480</th>\n",
       "      <td>480</td>\n",
       "      <td>321</td>\n",
       "    </tr>\n",
       "    <tr>\n",
       "      <th>481</th>\n",
       "      <td>481</td>\n",
       "      <td>312</td>\n",
       "    </tr>\n",
       "    <tr>\n",
       "      <th>482</th>\n",
       "      <td>482</td>\n",
       "      <td>305</td>\n",
       "    </tr>\n",
       "    <tr>\n",
       "      <th>483</th>\n",
       "      <td>483</td>\n",
       "      <td>293</td>\n",
       "    </tr>\n",
       "    <tr>\n",
       "      <th>484</th>\n",
       "      <td>484</td>\n",
       "      <td>318</td>\n",
       "    </tr>\n",
       "    <tr>\n",
       "      <th>...</th>\n",
       "      <td>...</td>\n",
       "      <td>...</td>\n",
       "    </tr>\n",
       "    <tr>\n",
       "      <th>596</th>\n",
       "      <td>596</td>\n",
       "      <td>156</td>\n",
       "    </tr>\n",
       "    <tr>\n",
       "      <th>597</th>\n",
       "      <td>597</td>\n",
       "      <td>158</td>\n",
       "    </tr>\n",
       "    <tr>\n",
       "      <th>598</th>\n",
       "      <td>598</td>\n",
       "      <td>151</td>\n",
       "    </tr>\n",
       "    <tr>\n",
       "      <th>599</th>\n",
       "      <td>599</td>\n",
       "      <td>175</td>\n",
       "    </tr>\n",
       "    <tr>\n",
       "      <th>600</th>\n",
       "      <td>600</td>\n",
       "      <td>154</td>\n",
       "    </tr>\n",
       "  </tbody>\n",
       "</table>\n",
       "<p>121 rows × 2 columns</p>\n",
       "</div>"
      ],
      "text/plain": [
       "     Channel  Counts\n",
       "480      480     321\n",
       "481      481     312\n",
       "482      482     305\n",
       "483      483     293\n",
       "484      484     318\n",
       "..       ...     ...\n",
       "596      596     156\n",
       "597      597     158\n",
       "598      598     151\n",
       "599      599     175\n",
       "600      600     154\n",
       "\n",
       "[121 rows x 2 columns]"
      ]
     },
     "execution_count": 43,
     "metadata": {},
     "output_type": "execute_result"
    }
   ],
   "source": [
    "# import data and investigate contents \n",
    "\n",
    "thick_0_5 = pd.read_csv('first_pass_data/2020_10_8_18_45_57_Gammas_0.5mm.csv')\n",
    "print(thick_0_5.columns)\n",
    "thick_0_5 = thick_0_5.loc[480:600]\n",
    "thick_0_5"
   ]
  },
  {
   "cell_type": "code",
   "execution_count": 46,
   "metadata": {},
   "outputs": [
    {
     "data": {
      "text/html": [
       "<div>\n",
       "<style scoped>\n",
       "    .dataframe tbody tr th:only-of-type {\n",
       "        vertical-align: middle;\n",
       "    }\n",
       "\n",
       "    .dataframe tbody tr th {\n",
       "        vertical-align: top;\n",
       "    }\n",
       "\n",
       "    .dataframe thead th {\n",
       "        text-align: right;\n",
       "    }\n",
       "</style>\n",
       "<table border=\"1\" class=\"dataframe\">\n",
       "  <thead>\n",
       "    <tr style=\"text-align: right;\">\n",
       "      <th></th>\n",
       "      <th>Channel</th>\n",
       "      <th>Counts</th>\n",
       "    </tr>\n",
       "  </thead>\n",
       "  <tbody>\n",
       "    <tr>\n",
       "      <th>480</th>\n",
       "      <td>480</td>\n",
       "      <td>296</td>\n",
       "    </tr>\n",
       "    <tr>\n",
       "      <th>481</th>\n",
       "      <td>481</td>\n",
       "      <td>263</td>\n",
       "    </tr>\n",
       "    <tr>\n",
       "      <th>482</th>\n",
       "      <td>482</td>\n",
       "      <td>274</td>\n",
       "    </tr>\n",
       "    <tr>\n",
       "      <th>483</th>\n",
       "      <td>483</td>\n",
       "      <td>278</td>\n",
       "    </tr>\n",
       "    <tr>\n",
       "      <th>484</th>\n",
       "      <td>484</td>\n",
       "      <td>260</td>\n",
       "    </tr>\n",
       "    <tr>\n",
       "      <th>...</th>\n",
       "      <td>...</td>\n",
       "      <td>...</td>\n",
       "    </tr>\n",
       "    <tr>\n",
       "      <th>596</th>\n",
       "      <td>596</td>\n",
       "      <td>161</td>\n",
       "    </tr>\n",
       "    <tr>\n",
       "      <th>597</th>\n",
       "      <td>597</td>\n",
       "      <td>162</td>\n",
       "    </tr>\n",
       "    <tr>\n",
       "      <th>598</th>\n",
       "      <td>598</td>\n",
       "      <td>166</td>\n",
       "    </tr>\n",
       "    <tr>\n",
       "      <th>599</th>\n",
       "      <td>599</td>\n",
       "      <td>191</td>\n",
       "    </tr>\n",
       "    <tr>\n",
       "      <th>600</th>\n",
       "      <td>600</td>\n",
       "      <td>159</td>\n",
       "    </tr>\n",
       "  </tbody>\n",
       "</table>\n",
       "<p>121 rows × 2 columns</p>\n",
       "</div>"
      ],
      "text/plain": [
       "     Channel  Counts\n",
       "480      480     296\n",
       "481      481     263\n",
       "482      482     274\n",
       "483      483     278\n",
       "484      484     260\n",
       "..       ...     ...\n",
       "596      596     161\n",
       "597      597     162\n",
       "598      598     166\n",
       "599      599     191\n",
       "600      600     159\n",
       "\n",
       "[121 rows x 2 columns]"
      ]
     },
     "execution_count": 46,
     "metadata": {},
     "output_type": "execute_result"
    }
   ],
   "source": [
    "thick_0_0 = pd.read_csv('first_pass_data/2020_10_8_18_29_31_Gammas_0_0mm.csv')\n",
    "thick_0_0 = thick_0_0.loc[480:600]\n",
    "thick_0_0"
   ]
  },
  {
   "cell_type": "code",
   "execution_count": 47,
   "metadata": {},
   "outputs": [
    {
     "data": {
      "text/plain": [
       "<matplotlib.axes._subplots.AxesSubplot at 0x7f54c94cccd0>"
      ]
     },
     "execution_count": 47,
     "metadata": {},
     "output_type": "execute_result"
    },
    {
     "data": {
      "image/png": "[encoded data removed]",
      "text/plain": [
       "<Figure size 432x288 with 1 Axes>"
      ]
     },
     "metadata": {
      "needs_background": "light"
     },
     "output_type": "display_data"
    },
    {
     "data": {
      "image/png": "[encoded data removed]",
      "text/plain": [
       "<Figure size 432x288 with 1 Axes>"
      ]
     },
     "metadata": {
      "needs_background": "light"
     },
     "output_type": "display_data"
    }
   ],
   "source": [
    "thick_0_5.plot(x = 'Channel', y='Counts', kind='scatter')\n",
    "# expected peak around 520 ish \n",
    "\n",
    "thick_0_0.plot(x = 'Channel', y='Counts', kind='scatter')"
   ]
  },
  {
   "cell_type": "code",
   "execution_count": 95,
   "metadata": {},
   "outputs": [
    {
     "name": "stdout",
     "output_type": "stream",
     "text": [
      "[ 5.09665209e+03  5.33158553e+02  1.20058610e+01 -1.53663937e+00\n",
      "  1.05453548e+03]\n"
     ]
    },
    {
     "data": {
      "image/png": "[encoded data removed]",
      "text/plain": [
       "<Figure size 720x288 with 2 Axes>"
      ]
     },
     "metadata": {
      "needs_background": "light"
     },
     "output_type": "display_data"
    }
   ],
   "source": [
    "# we fit a gaussian to both and compute the integral under the curve\n",
    "\n",
    "def fit_model(x, A, mu, sigma, m, b):\n",
    "    return A*np.exp(-0.5*((x - mu)/sigma)**2) + m*x + b\n",
    "\n",
    "chan = thick_0_0['Channel'].to_numpy()\n",
    "\n",
    "pars_0_0, cov_0_0 = curve_fit(f=fit_model, xdata=chan, ydata=thick_0_0['Counts'], p0=[5000, 530, 30, 0.5, 0.5])\n",
    "pars_0_5, cov_0_5 = curve_fit(f=fit_model, xdata=chan, ydata=thick_0_5['Counts'], p0=[5000, 530, 30, 0.5, 0.5])\n",
    "\n",
    "fited_0_0 = fit_model(chan, pars_0_0[0], pars_0_0[1], pars_0_0[2], pars_0_0[3], pars_0_0[4])\n",
    "fited_0_5 = fit_model(chan, pars_0_5[0], pars_0_5[1], pars_0_5[2], pars_0_5[3], pars_0_5[4])\n",
    "\n",
    "# plot fit and data \n",
    "fig = plt.figure(figsize = (10,4))\n",
    "ax =fig.add_subplot(1,2,1)\n",
    "ay =fig.add_subplot(1,2,2)\n",
    "\n",
    "ax.plot(chan, thick_0_0['Counts'].to_numpy(), 'b.', label='data')\n",
    "ax.plot(chan, fit_model(chan, pars_0_0[0], pars_0_0[1], pars_0_0[2], pars_0_0[3], pars_0_0[4]), 'r-', label='exp_fit')\n",
    "ax.legend()\n",
    "ax.set_title('0.0 mm')\n",
    "\n",
    "ay.plot(chan, thick_0_5['Counts'].to_numpy(), 'b.', label='data')\n",
    "ay.plot(chan, fit_model(chan, pars_0_5[0], pars_0_5[1], pars_0_5[2], pars_0_5[3], pars_0_5[4]), 'r-', label='exp_fit')\n",
    "ay.legend()\n",
    "ay.set_title('0.5 mm')\n",
    "\n",
    "print(pars_0_0)"
   ]
  },
  {
   "cell_type": "code",
   "execution_count": 101,
   "metadata": {},
   "outputs": [
    {
     "name": "stdout",
     "output_type": "stream",
     "text": [
      "0.9869501397394377\n"
     ]
    }
   ],
   "source": [
    "# integrate fits to find num photons reaching detector at 0 and 0.5 mm thickness \n",
    "\n",
    "fited_0_0 = lambda x : fit_model(x, pars_0_0[0], pars_0_0[1], pars_0_0[2], pars_0_0[3], pars_0_0[4])\n",
    "fited_0_5 = lambda x : fit_model(x, pars_0_5[0], pars_0_5[1], pars_0_5[2], pars_0_5[3], pars_0_5[4])\n",
    "N_0_0 = int_quad(fited_0_0, 480, 600)\n",
    "N_0_5 = int_quad(fited_0_5, 480, 600)\n",
    "\n",
    "print(N_0_5[0] / N_0_0[0])"
   ]
  },
  {
   "cell_type": "code",
   "execution_count": 124,
   "metadata": {},
   "outputs": [],
   "source": [
    "# duplicate above analysis for all thickness values and fit to exp(-lambda t)\n",
    "\n",
    "class Analysis:\n",
    "    # thickness expected in mm\n",
    "    # expect Channel and Counts fields in data\n",
    "    def __init__(self, filename, thickness):\n",
    "        # doing cut arbitrarily by eye here \n",
    "        # come up with better estimate for this\n",
    "        self.low = 480\n",
    "        self.high = 600\n",
    "        self.data = pd.read_csv(filename).loc[self.low:self.high]\n",
    "        self.chan = self.data['Channel'].to_numpy()\n",
    "\n",
    "    def fit_model(self, x, A, mu, sigma, m, b):\n",
    "        # model to be fitted\n",
    "        return A*np.exp(-0.5*((x - mu)/sigma)**2) + m*x + b\n",
    "    \n",
    "    def fit_params(self):\n",
    "        # return fit params\n",
    "        self.pars, self.cov = curve_fit(f=self.fit_model, xdata=self.chan, ydata=self.data['Counts'], p0=[5000, 530, 30, 0.5, 0.5])\n",
    "        return self.pars, self.cov\n",
    "    \n",
    "    def fit(self):\n",
    "        # returns fitted function evaluated on self.chan\n",
    "        self.pars, self.cov = self.fit_params()\n",
    "        self.fited = self.fit_model(self.chan, self.pars[0], self.pars[1], self.pars[2], self.pars[3], self.pars[4])\n",
    "        return self.fited\n",
    "    \n",
    "    def compute_gamma_num(self):\n",
    "        self.pars, self.cov = self.fit_params()\n",
    "        self._fited = lambda x : self.fit_model(x, self.pars[0], self.pars[1], self.pars[2], self.pars[3], self.pars[4])\n",
    "        self.N = int_quad(self._fited, self.low, self.high)\n",
    "        return self.N"
   ]
  },
  {
   "cell_type": "code",
   "execution_count": 160,
   "metadata": {},
   "outputs": [
    {
     "name": "stdout",
     "output_type": "stream",
     "text": [
      "0.9869501397394377\n",
      "[0.8, 3.2, 1.6, 0.4, 0.1, 0.0, 0.2, 0.05]\n",
      "[0.8883912329178993, 0.6277198849319948, 0.7869213169021088, 0.9376899941198948, 0.9801830105726336, 1.0, 0.9651082040478435, 0.9869501397394377]\n"
     ]
    },
    {
     "data": {
      "text/plain": [
       "<matplotlib.legend.Legend at 0x7f54c3c98e80>"
      ]
     },
     "execution_count": 160,
     "metadata": {},
     "output_type": "execute_result"
    },
    {
     "data": {
      "image/png": "[encoded data removed]",
      "text/plain": [
       "<Figure size 360x288 with 1 Axes>"
      ]
     },
     "metadata": {
      "needs_background": "light"
     },
     "output_type": "display_data"
    }
   ],
   "source": [
    "path = 'first_pass_data/2020_10_8/'\n",
    "files = [f for f in listdir(path) if isfile(join(path, f))]\n",
    "\n",
    "photon_nums = {} # thicknes : (nums, error)\n",
    "for file in files:\n",
    "    thickness = file[:-4] # some slice\n",
    "    analysis = Analysis(path+file, thickness)\n",
    "    photon_nums[thickness] = analysis.compute_gamma_num()\n",
    "\n",
    "#print(photon_nums)\n",
    "print(photon_nums['0.5mm'][0] / photon_nums['0.0mm'][0])\n",
    "\n",
    "thickness = [float(s[:-2]) / 10 for s in photon_nums.keys()]\n",
    "nums = [(s[0] / photon_nums['0.0mm'][0]) for s in photon_nums.values()] \n",
    "\n",
    "print(thickness)\n",
    "print(nums)\n",
    "\n",
    "fig, ax = plt.subplots(figsize = (5,4))\n",
    "\n",
    "ax.plot(thickness, nums, 'b.', label='photon_nums')\n",
    "ax.legend()"
   ]
  },
  {
   "cell_type": "code",
   "execution_count": 184,
   "metadata": {},
   "outputs": [
    {
     "data": {
      "text/plain": [
       "<matplotlib.legend.Legend at 0x7f54c3726fd0>"
      ]
     },
     "execution_count": 184,
     "metadata": {},
     "output_type": "execute_result"
    },
    {
     "data": {
      "image/png": "[encoded data removed]",
      "text/plain": [
       "<Figure size 360x288 with 1 Axes>"
      ]
     },
     "metadata": {
      "needs_background": "light"
     },
     "output_type": "display_data"
    }
   ],
   "source": [
    "# fit exp(- lambda*w) to above data\n",
    "\n",
    "def cs_fit_model(x, lmda):\n",
    "    x = np.array(x)\n",
    "    return np.exp(-1*lmda*x)\n",
    "\n",
    "fitted_cross_section_params = curve_fit(f=cs_fit_model, xdata=thickness, ydata=nums, p0=[5])\n",
    "\n",
    "# plot fit and data \n",
    "fig, ax = plt.subplots(figsize = (5,4))\n",
    "fited_nums_log = np.log(cs_fit_model(thickness, fitted_cross_section_params[0][0]))\n",
    "\n",
    "ax.set_xlabel('Thickness (cm)')\n",
    "ax.set_ylabel('log(N/N_0)')\n",
    "\n",
    "ax.plot(thickness, np.log(nums), 'b.', label='log(N/N_0)')\n",
    "ax.plot(thickness, fited_nums_log, 'r-', label='fit')\n",
    "plt.figtext(0.2, 0.5, \"$\\lambda = $\" + str(fitted_cross_section_params[0][0])[:5] + '$cm^{-1}$')\n",
    "ax.legend()"
   ]
  },
  {
   "cell_type": "markdown",
   "metadata": {},
   "source": []
  }
 ],
 "metadata": {
  "kernelspec": {
   "display_name": "Python 3",
   "language": "python",
   "name": "python3"
  },
  "language_info": {
   "codemirror_mode": {
    "name": "ipython",
    "version": 3
   },
   "file_extension": ".py",
   "mimetype": "text/x-python",
   "name": "python",
   "nbconvert_exporter": "python",
   "pygments_lexer": "ipython3",
   "version": "3.8.3"
  }
 },
 "nbformat": 4,
 "nbformat_minor": 4
}
