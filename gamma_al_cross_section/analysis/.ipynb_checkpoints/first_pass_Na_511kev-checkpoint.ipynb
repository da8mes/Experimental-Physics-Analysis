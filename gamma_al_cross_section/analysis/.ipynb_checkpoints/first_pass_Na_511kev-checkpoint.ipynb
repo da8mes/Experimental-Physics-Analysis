{
 "cells": [
  {
   "cell_type": "code",
   "execution_count": 24,
   "metadata": {},
   "outputs": [],
   "source": [
    "%matplotlib inline\n",
    "from os import listdir\n",
    "from os.path import isfile, join\n",
    "import sys \n",
    "import numpy as np\n",
    "import matplotlib.pyplot as plt\n",
    "from scipy import optimize\n",
    "from scipy.integrate import quad as int_quad"
   ]
  },
  {
   "cell_type": "code",
   "execution_count": 33,
   "metadata": {},
   "outputs": [],
   "source": [
    "def residual(p,func, xvar, yvar, err):\n",
    "    return (func(p, xvar) - yvar)/err\n",
    "\n",
    "def fit_model(p, x):\n",
    "    # p = [A, mu, sigma, m, b]\n",
    "    A = p[0]\n",
    "    mu = p[1]\n",
    "    sigma = p[2]\n",
    "    m = p[3]\n",
    "    b = p[4]\n",
    "    # model to be fitted\n",
    "    return A*np.exp(-0.5*((x - mu)/sigma)**2) + m*x + b\n",
    "\n",
    "def cs_fit_model(p, x):\n",
    "    # p = [lambda]\n",
    "    return np.exp(-1*p[0]*x)\n",
    "\n",
    "class Analysis:\n",
    "    # thickness expected in mm\n",
    "    # expect Channel and Counts fields in data\n",
    "    def __init__(self, filename, thickness, f=None, init_plot=False):\n",
    "        # doing cut arbitrarily by eye here \n",
    "        # come up with better estimate for this\n",
    "        if not f: self.file = sys.stdout\n",
    "        else: self.file = f\n",
    "        self.pf, self.pferr, self.chisq,self.dof = None, None, None, None\n",
    "        self.fited = None\n",
    "        self.thickness = thickness\n",
    "        self.low = 480\n",
    "        self.high = 600\n",
    "        self.data_start = 1\n",
    "        # self.data = [chan_arr, count_arr]\n",
    "        self.data = np.loadtxt(filename , unpack=True, skiprows = self.data_start, delimiter = \",\")  \n",
    "        self.chan = self.data[0][self.low:self.high]\n",
    "        self.N = self.data[1][self.low:self.high]\n",
    "        self.dN = np.sqrt(self.N)\n",
    "        # for any dN = 0, set dN = 1.14 (see justification for this)\n",
    "        for i, value in enumerate(self.N):\n",
    "            if value == 0: self.dN[i] = 1.14\n",
    "        \n",
    "        if init_plot:\n",
    "            # make this nicer to get a single plot\n",
    "            fig, ax = plt.subplots(figsize=(6,4))\n",
    "            ax.errorbar(self.chan, self.N, self.dN, fmt='k.', capsize=3)\n",
    "    \n",
    "    # The code below defines our data fitting function.\n",
    "    # Inputs are:\n",
    "    # initial guess for parameters p0\n",
    "    # the function we're fitting to\n",
    "    # the x,y, and dy variables\n",
    "    # tmi can be set to 1 or 2 if more intermediate data is needed\n",
    "\n",
    "    def data_fit(self, p0,func,xvar, yvar, err,tmi=0):\n",
    "        try:\n",
    "            fit = optimize.least_squares(residual, p0, args=(func,xvar, yvar, err),verbose=tmi)\n",
    "        except Exception as error:\n",
    "            print(\"Something has gone wrong:\",error, file=self.file)\n",
    "            return p0,np.zeros_like(p0),-1,-1\n",
    "        self.pf = fit['x']\n",
    "\n",
    "        print(\" \", file=self.file)\n",
    "\n",
    "        try:\n",
    "            cov = np.linalg.inv(fit['jac'].T.dot(fit['jac']))          \n",
    "            # This computes a covariance matrix by finding the inverse of the Jacobian times its transpose\n",
    "            # We need this to find the uncertainty in our fit parameters\n",
    "        except:\n",
    "            # If the fit failed, print the reason\n",
    "            print('Fit did not converge', file=f)\n",
    "            print('Result is likely a local minimum', file=self.file)\n",
    "            print('Try changing initial values', file=self.file)\n",
    "            print('Status code:', fit['status'], file=self.file)\n",
    "            print(fit['message'], file=self.file)\n",
    "            return self.pf,np.zeros_like(self.pf),-1,-1\n",
    "            #You'll be able to plot with this, but it will not be a good fit.\n",
    "\n",
    "        self.chisq = sum(residual(self.pf,func,xvar, yvar, err) **2)\n",
    "        self.dof = len(xvar) - len(self.pf)\n",
    "        self.red_chisq = self.chisq/self.dof\n",
    "        self.pferr = np.sqrt(np.diagonal(cov)) # finds the uncertainty in fit parameters by squaring diagonal elements of the covariance matrix\n",
    "        print('Thickness: ' + self.thickness, file=self.file)\n",
    "        print('Converged with chi-squared {:.2f}'.format(self.chisq), file=self.file)\n",
    "        print('Number of degrees of freedom, dof = {:.2f}'.format(self.dof), file=self.file)\n",
    "        print('Reduced chi-squared {:.2f}'.format(self.red_chisq), file=self.file)\n",
    "        print(\" \", file=self.file)\n",
    "        Columns = [\"Parameter #\",\"Initial guess values:\", \"Best fit values:\", \"Uncertainties in the best fit values:\"]\n",
    "        print('{:<11}'.format(Columns[0]),'|','{:<24}'.format(Columns[1]),\"|\",'{:<24}'.format(Columns[2]),\"|\",'{:<24}'.format(Columns[3]), file=self.file)\n",
    "        for num in range(len(self.pf)):\n",
    "            print('{:<11}'.format(num),'|','{:<24.3e}'.format(p0[num]),'|','{:<24.3e}'.format(self.pf[num]),'|','{:<24.3e}'.format(self.pferr[num]), file=self.file)\n",
    "        return self.pf, self.pferr, self.chisq,self.dof\n",
    "    \n",
    "    def fit(self, p0, x):\n",
    "        # returns fitted function evaluated on x\n",
    "        # does not return a function\n",
    "        if self.pf is None:\n",
    "            self.pf, self.pferr, self.chisq, self.dof = self.data_fit(p0, fit_model, self.chan, self.N, self.dN)\n",
    "        self.fited = fit_model(self.pf, x)\n",
    "        return self.fited\n",
    "    \n",
    "    def compute_gamma_num(self, p0):\n",
    "        # this does not subtract the background yet\n",
    "        # NOTE: integration introduces error\n",
    "        if self.pf is None:\n",
    "            self.pf, _, _, _ = self.data_fit(p0, fit_model, self.chan, self.N, self.dN)\n",
    "        self._fited = lambda x : fit_model(self.pf, x)\n",
    "        self.N_Nerr = int_quad(self._fited, self.low, self.high)\n",
    "        return self.N_Nerr\n",
    "    \n",
    "    def plot(self, p0, ax):\n",
    "        # modifies axis object with data, lables and title\n",
    "        # correctly styled\n",
    "        X = np.linspace(self.chan.min(), self.chan.max(), 500)\n",
    "        if self.fited is None or self.pf is None: self.fit(p0, X)\n",
    "\n",
    "        if ax is None: ax = plt.gca() # get current axis\n",
    "        \n",
    "        ax.errorbar(self.chan, self.N, self.dN, fmt='ko', label = 'Data', capsize=1)\n",
    "        ax.plot(X, self.fited, 'r-', label = 'Fit')\n",
    "\n",
    "        ax.set_title('Thickness: '+self.thickness)\n",
    "        ax.set_xlabel('Channel')\n",
    "        ax.set_ylabel('Counts')\n",
    "\n",
    "        # Here is the text we want to include...\n",
    "        #textfit = '$f(x) = A/\\\\sigma \\\\sqrt{2\\\\pi} exp(\\\\frac{-(x - \\\\mu)^2}{2\\\\sigma^2}) + mx + b$ \\n' \n",
    "        textfit = '$A = {:.2f} \\pm {:.2f}$ \\n'.format(self.pf[0],self.pferr[0]) \n",
    "        textfit +='$\\\\mu = {:.2f} \\pm {:.2f}$ \\n'.format(self.pf[1],self.pferr[1]) \n",
    "        textfit +='$\\\\sigma = {:.2f} \\pm {:.2f}$ \\n'.format(self.pf[2],self.pferr[2]) \n",
    "        textfit +='$m = {:.2f} \\pm {:.2f}$ \\n'.format(self.pf[3],self.pferr[3])\n",
    "        textfit +='$b = {:.2f} \\pm {:.2f}$ \\n'.format(self.pf[4],self.pf[4]) \n",
    "\n",
    "        textfit2 = '$\\chi^2= {:.1f}$ \\n'.format(self.chisq) \n",
    "        textfit2 += '$N = {}$ (dof) \\n'.format(self.dof) \n",
    "        textfit2 += '$\\chi^2/N = {:.2f}$'.format(self.chisq/self.dof) \n",
    "\n",
    "        #... and below is where we actually place it on the plot\n",
    "        ax.text(0.60, 0.85, textfit, transform=ax.transAxes , fontsize=12,verticalalignment='top')\n",
    "        ax.text(0.05, 0.95, textfit2, transform=ax.transAxes , fontsize=12,verticalalignment='top')\n",
    "\n",
    "\n",
    "        ax.set_xlim([self.chan.min()-0.5, self.chan.max()+0.5])\n",
    "        # this ensures that the axes always scale to be just slightly wider than the data.\n",
    "        ax.legend(loc='upper right')\n",
    "        return None"
   ]
  },
  {
   "cell_type": "code",
   "execution_count": 34,
   "metadata": {},
   "outputs": [
    {
     "data": {
      "image/png": "[encoded data removed]",
      "text/plain": [
       "<Figure size 432x288 with 1 Axes>"
      ]
     },
     "metadata": {
      "needs_background": "light"
     },
     "output_type": "display_data"
    }
   ],
   "source": [
    "path = 'first_pass_data/2020_10_8/'\n",
    "files = [f for f in listdir(path) if isfile(join(path, f))]\n",
    "\n",
    "test = Analysis(path+files[0], files[0][:-4], init_plot=True)"
   ]
  },
  {
   "cell_type": "code",
   "execution_count": null,
   "metadata": {},
   "outputs": [],
   "source": [
    "photon_nums = {} # thicknes : (nums, error (in integrating))\n",
    "# p = [A, mu, sigma, m, b]\n",
    "p0 = [5000, 530, 10, -0.5, 0.5] # init  param guess for fitting\n",
    "\n",
    "# test fit params p0\n",
    "#fig, ax = plt.subplots(figsize=(6,4))\n",
    "#ax.plot(test.chan, fit_model(p0, test.chan), 'r-')\n",
    "outfile = 'Na11_511kev.txt'\n",
    "with open(outfile, \"r\") as f:\n",
    "    data = f.read()\n",
    "\n",
    "fig, axes = plt.subplots(ncols=3,nrows=3, sharex=True, sharey=True, figsize=(25,25))\n",
    "with open(outfile, 'w') as f:\n",
    "    for i, file in enumerate(files):\n",
    "        thickness = file[:-4] # some slice\n",
    "        analysis = Analysis(path+file, thickness, f)\n",
    "        photon_nums[thickness] = analysis.compute_gamma_num(p0)\n",
    "        ax = axes.flat[i] # get the ith axis and pass to plot method\n",
    "        analysis.plot(p0, ax)\n",
    "\n",
    "title = \"PHA Spectrums for Na-11 511kev | Fit: $f(x) = \\\\frac{A}{\\\\sigma \\\\sqrt{2\\\\pi}}e^{\\\\frac{-(x - \\\\mu)^2}{2\\\\sigma^2}} + mx + b$\"\n",
    "fig.suptitle(title, fontsize=18)\n",
    "fig.tight_layout()\n",
    "fig.subplots_adjust(top=0.95)\n",
    "plt.savefig(\"PHA_spectrums_for_Na-11_511kev.pdf\")\n",
    "plt.show()"
   ]
  },
  {
   "cell_type": "code",
   "execution_count": null,
   "metadata": {},
   "outputs": [],
   "source": []
  },
  {
   "cell_type": "code",
   "execution_count": 28,
   "metadata": {},
   "outputs": [
    {
     "data": {
      "text/plain": [
       "<matplotlib.legend.Legend at 0x7ff135deee80>"
      ]
     },
     "execution_count": 28,
     "metadata": {},
     "output_type": "execute_result"
    },
    {
     "data": {
      "image/png": "[encoded data removed]",
      "text/plain": [
       "<Figure size 432x288 with 1 Axes>"
      ]
     },
     "metadata": {
      "needs_background": "light"
     },
     "output_type": "display_data"
    }
   ],
   "source": [
    "# can be used to get all params and num plots\n",
    "thickness = [float(s[:-2]) / 10 for s in photon_nums.keys()]\n",
    "nums = [s[0] for s in photon_nums.values()] \n",
    "\n",
    "fig, ax = plt.subplots(figsize=(6,4))\n",
    "ax.plot(thickness, nums, 'b.', label='photon_nums')\n",
    "ax.legend()"
   ]
  }
 ],
 "metadata": {
  "kernelspec": {
   "display_name": "Python 3",
   "language": "python",
   "name": "python3"
  },
  "language_info": {
   "codemirror_mode": {
    "name": "ipython",
    "version": 3
   },
   "file_extension": ".py",
   "mimetype": "text/x-python",
   "name": "python",
   "nbconvert_exporter": "python",
   "pygments_lexer": "ipython3",
   "version": "3.8.3"
  }
 },
 "nbformat": 4,
 "nbformat_minor": 4
}
