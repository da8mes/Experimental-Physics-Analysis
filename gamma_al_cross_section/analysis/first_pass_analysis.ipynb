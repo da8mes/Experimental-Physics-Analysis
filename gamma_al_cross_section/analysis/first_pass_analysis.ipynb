{
 "cells": [
  {
   "cell_type": "code",
   "execution_count": 4,
   "metadata": {},
   "outputs": [],
   "source": [
    "# this is a first pass analysis of gamma cross sections data \n",
    "\n",
    "from os import listdir\n",
    "from os.path import isfile, join\n",
    "import matplotlib.pylab as plt\n",
    "import numpy as np\n",
    "import pandas as pd\n",
    "from scipy.optimize import curve_fit\n",
    "from scipy.integrate import quad as int_quad"
   ]
  },
  {
   "cell_type": "code",
   "execution_count": 3,
   "metadata": {},
   "outputs": [
    {
     "ename": "FileNotFoundError",
     "evalue": "[Errno 2] File first_pass_data/2020_10_8_18_45_57_Gammas_0.5mm.csv does not exist: 'first_pass_data/2020_10_8_18_45_57_Gammas_0.5mm.csv'",
     "output_type": "error",
     "traceback": [
      "\u001b[0;31m---------------------------------------------------------------------------\u001b[0m",
      "\u001b[0;31mFileNotFoundError\u001b[0m                         Traceback (most recent call last)",
      "\u001b[0;32m<ipython-input-3-4a05aa26236a>\u001b[0m in \u001b[0;36m<module>\u001b[0;34m\u001b[0m\n\u001b[1;32m      1\u001b[0m \u001b[0;31m# import data and investigate contents\u001b[0m\u001b[0;34m\u001b[0m\u001b[0;34m\u001b[0m\u001b[0;34m\u001b[0m\u001b[0m\n\u001b[1;32m      2\u001b[0m \u001b[0;34m\u001b[0m\u001b[0m\n\u001b[0;32m----> 3\u001b[0;31m \u001b[0mthick_0_5\u001b[0m \u001b[0;34m=\u001b[0m \u001b[0mpd\u001b[0m\u001b[0;34m.\u001b[0m\u001b[0mread_csv\u001b[0m\u001b[0;34m(\u001b[0m\u001b[0;34m'first_pass_data/2020_10_8_18_45_57_Gammas_0.5mm.csv'\u001b[0m\u001b[0;34m)\u001b[0m\u001b[0;34m\u001b[0m\u001b[0;34m\u001b[0m\u001b[0m\n\u001b[0m\u001b[1;32m      4\u001b[0m \u001b[0mprint\u001b[0m\u001b[0;34m(\u001b[0m\u001b[0mthick_0_5\u001b[0m\u001b[0;34m.\u001b[0m\u001b[0mcolumns\u001b[0m\u001b[0;34m)\u001b[0m\u001b[0;34m\u001b[0m\u001b[0;34m\u001b[0m\u001b[0m\n\u001b[1;32m      5\u001b[0m \u001b[0mthick_0_5\u001b[0m \u001b[0;34m=\u001b[0m \u001b[0mthick_0_5\u001b[0m\u001b[0;34m.\u001b[0m\u001b[0mloc\u001b[0m\u001b[0;34m[\u001b[0m\u001b[0;36m480\u001b[0m\u001b[0;34m:\u001b[0m\u001b[0;36m600\u001b[0m\u001b[0;34m]\u001b[0m\u001b[0;34m\u001b[0m\u001b[0;34m\u001b[0m\u001b[0m\n",
      "\u001b[0;32m~/anaconda3/lib/python3.8/site-packages/pandas/io/parsers.py\u001b[0m in \u001b[0;36mparser_f\u001b[0;34m(filepath_or_buffer, sep, delimiter, header, names, index_col, usecols, squeeze, prefix, mangle_dupe_cols, dtype, engine, converters, true_values, false_values, skipinitialspace, skiprows, skipfooter, nrows, na_values, keep_default_na, na_filter, verbose, skip_blank_lines, parse_dates, infer_datetime_format, keep_date_col, date_parser, dayfirst, cache_dates, iterator, chunksize, compression, thousands, decimal, lineterminator, quotechar, quoting, doublequote, escapechar, comment, encoding, dialect, error_bad_lines, warn_bad_lines, delim_whitespace, low_memory, memory_map, float_precision)\u001b[0m\n\u001b[1;32m    674\u001b[0m         )\n\u001b[1;32m    675\u001b[0m \u001b[0;34m\u001b[0m\u001b[0m\n\u001b[0;32m--> 676\u001b[0;31m         \u001b[0;32mreturn\u001b[0m \u001b[0m_read\u001b[0m\u001b[0;34m(\u001b[0m\u001b[0mfilepath_or_buffer\u001b[0m\u001b[0;34m,\u001b[0m \u001b[0mkwds\u001b[0m\u001b[0;34m)\u001b[0m\u001b[0;34m\u001b[0m\u001b[0;34m\u001b[0m\u001b[0m\n\u001b[0m\u001b[1;32m    677\u001b[0m \u001b[0;34m\u001b[0m\u001b[0m\n\u001b[1;32m    678\u001b[0m     \u001b[0mparser_f\u001b[0m\u001b[0;34m.\u001b[0m\u001b[0m__name__\u001b[0m \u001b[0;34m=\u001b[0m \u001b[0mname\u001b[0m\u001b[0;34m\u001b[0m\u001b[0;34m\u001b[0m\u001b[0m\n",
      "\u001b[0;32m~/anaconda3/lib/python3.8/site-packages/pandas/io/parsers.py\u001b[0m in \u001b[0;36m_read\u001b[0;34m(filepath_or_buffer, kwds)\u001b[0m\n\u001b[1;32m    446\u001b[0m \u001b[0;34m\u001b[0m\u001b[0m\n\u001b[1;32m    447\u001b[0m     \u001b[0;31m# Create the parser.\u001b[0m\u001b[0;34m\u001b[0m\u001b[0;34m\u001b[0m\u001b[0;34m\u001b[0m\u001b[0m\n\u001b[0;32m--> 448\u001b[0;31m     \u001b[0mparser\u001b[0m \u001b[0;34m=\u001b[0m \u001b[0mTextFileReader\u001b[0m\u001b[0;34m(\u001b[0m\u001b[0mfp_or_buf\u001b[0m\u001b[0;34m,\u001b[0m \u001b[0;34m**\u001b[0m\u001b[0mkwds\u001b[0m\u001b[0;34m)\u001b[0m\u001b[0;34m\u001b[0m\u001b[0;34m\u001b[0m\u001b[0m\n\u001b[0m\u001b[1;32m    449\u001b[0m \u001b[0;34m\u001b[0m\u001b[0m\n\u001b[1;32m    450\u001b[0m     \u001b[0;32mif\u001b[0m \u001b[0mchunksize\u001b[0m \u001b[0;32mor\u001b[0m \u001b[0miterator\u001b[0m\u001b[0;34m:\u001b[0m\u001b[0;34m\u001b[0m\u001b[0;34m\u001b[0m\u001b[0m\n",
      "\u001b[0;32m~/anaconda3/lib/python3.8/site-packages/pandas/io/parsers.py\u001b[0m in \u001b[0;36m__init__\u001b[0;34m(self, f, engine, **kwds)\u001b[0m\n\u001b[1;32m    878\u001b[0m             \u001b[0mself\u001b[0m\u001b[0;34m.\u001b[0m\u001b[0moptions\u001b[0m\u001b[0;34m[\u001b[0m\u001b[0;34m\"has_index_names\"\u001b[0m\u001b[0;34m]\u001b[0m \u001b[0;34m=\u001b[0m \u001b[0mkwds\u001b[0m\u001b[0;34m[\u001b[0m\u001b[0;34m\"has_index_names\"\u001b[0m\u001b[0;34m]\u001b[0m\u001b[0;34m\u001b[0m\u001b[0;34m\u001b[0m\u001b[0m\n\u001b[1;32m    879\u001b[0m \u001b[0;34m\u001b[0m\u001b[0m\n\u001b[0;32m--> 880\u001b[0;31m         \u001b[0mself\u001b[0m\u001b[0;34m.\u001b[0m\u001b[0m_make_engine\u001b[0m\u001b[0;34m(\u001b[0m\u001b[0mself\u001b[0m\u001b[0;34m.\u001b[0m\u001b[0mengine\u001b[0m\u001b[0;34m)\u001b[0m\u001b[0;34m\u001b[0m\u001b[0;34m\u001b[0m\u001b[0m\n\u001b[0m\u001b[1;32m    881\u001b[0m \u001b[0;34m\u001b[0m\u001b[0m\n\u001b[1;32m    882\u001b[0m     \u001b[0;32mdef\u001b[0m \u001b[0mclose\u001b[0m\u001b[0;34m(\u001b[0m\u001b[0mself\u001b[0m\u001b[0;34m)\u001b[0m\u001b[0;34m:\u001b[0m\u001b[0;34m\u001b[0m\u001b[0;34m\u001b[0m\u001b[0m\n",
      "\u001b[0;32m~/anaconda3/lib/python3.8/site-packages/pandas/io/parsers.py\u001b[0m in \u001b[0;36m_make_engine\u001b[0;34m(self, engine)\u001b[0m\n\u001b[1;32m   1112\u001b[0m     \u001b[0;32mdef\u001b[0m \u001b[0m_make_engine\u001b[0m\u001b[0;34m(\u001b[0m\u001b[0mself\u001b[0m\u001b[0;34m,\u001b[0m \u001b[0mengine\u001b[0m\u001b[0;34m=\u001b[0m\u001b[0;34m\"c\"\u001b[0m\u001b[0;34m)\u001b[0m\u001b[0;34m:\u001b[0m\u001b[0;34m\u001b[0m\u001b[0;34m\u001b[0m\u001b[0m\n\u001b[1;32m   1113\u001b[0m         \u001b[0;32mif\u001b[0m \u001b[0mengine\u001b[0m \u001b[0;34m==\u001b[0m \u001b[0;34m\"c\"\u001b[0m\u001b[0;34m:\u001b[0m\u001b[0;34m\u001b[0m\u001b[0;34m\u001b[0m\u001b[0m\n\u001b[0;32m-> 1114\u001b[0;31m             \u001b[0mself\u001b[0m\u001b[0;34m.\u001b[0m\u001b[0m_engine\u001b[0m \u001b[0;34m=\u001b[0m \u001b[0mCParserWrapper\u001b[0m\u001b[0;34m(\u001b[0m\u001b[0mself\u001b[0m\u001b[0;34m.\u001b[0m\u001b[0mf\u001b[0m\u001b[0;34m,\u001b[0m \u001b[0;34m**\u001b[0m\u001b[0mself\u001b[0m\u001b[0;34m.\u001b[0m\u001b[0moptions\u001b[0m\u001b[0;34m)\u001b[0m\u001b[0;34m\u001b[0m\u001b[0;34m\u001b[0m\u001b[0m\n\u001b[0m\u001b[1;32m   1115\u001b[0m         \u001b[0;32melse\u001b[0m\u001b[0;34m:\u001b[0m\u001b[0;34m\u001b[0m\u001b[0;34m\u001b[0m\u001b[0m\n\u001b[1;32m   1116\u001b[0m             \u001b[0;32mif\u001b[0m \u001b[0mengine\u001b[0m \u001b[0;34m==\u001b[0m \u001b[0;34m\"python\"\u001b[0m\u001b[0;34m:\u001b[0m\u001b[0;34m\u001b[0m\u001b[0;34m\u001b[0m\u001b[0m\n",
      "\u001b[0;32m~/anaconda3/lib/python3.8/site-packages/pandas/io/parsers.py\u001b[0m in \u001b[0;36m__init__\u001b[0;34m(self, src, **kwds)\u001b[0m\n\u001b[1;32m   1889\u001b[0m         \u001b[0mkwds\u001b[0m\u001b[0;34m[\u001b[0m\u001b[0;34m\"usecols\"\u001b[0m\u001b[0;34m]\u001b[0m \u001b[0;34m=\u001b[0m \u001b[0mself\u001b[0m\u001b[0;34m.\u001b[0m\u001b[0musecols\u001b[0m\u001b[0;34m\u001b[0m\u001b[0;34m\u001b[0m\u001b[0m\n\u001b[1;32m   1890\u001b[0m \u001b[0;34m\u001b[0m\u001b[0m\n\u001b[0;32m-> 1891\u001b[0;31m         \u001b[0mself\u001b[0m\u001b[0;34m.\u001b[0m\u001b[0m_reader\u001b[0m \u001b[0;34m=\u001b[0m \u001b[0mparsers\u001b[0m\u001b[0;34m.\u001b[0m\u001b[0mTextReader\u001b[0m\u001b[0;34m(\u001b[0m\u001b[0msrc\u001b[0m\u001b[0;34m,\u001b[0m \u001b[0;34m**\u001b[0m\u001b[0mkwds\u001b[0m\u001b[0;34m)\u001b[0m\u001b[0;34m\u001b[0m\u001b[0;34m\u001b[0m\u001b[0m\n\u001b[0m\u001b[1;32m   1892\u001b[0m         \u001b[0mself\u001b[0m\u001b[0;34m.\u001b[0m\u001b[0munnamed_cols\u001b[0m \u001b[0;34m=\u001b[0m \u001b[0mself\u001b[0m\u001b[0;34m.\u001b[0m\u001b[0m_reader\u001b[0m\u001b[0;34m.\u001b[0m\u001b[0munnamed_cols\u001b[0m\u001b[0;34m\u001b[0m\u001b[0;34m\u001b[0m\u001b[0m\n\u001b[1;32m   1893\u001b[0m \u001b[0;34m\u001b[0m\u001b[0m\n",
      "\u001b[0;32mpandas/_libs/parsers.pyx\u001b[0m in \u001b[0;36mpandas._libs.parsers.TextReader.__cinit__\u001b[0;34m()\u001b[0m\n",
      "\u001b[0;32mpandas/_libs/parsers.pyx\u001b[0m in \u001b[0;36mpandas._libs.parsers.TextReader._setup_parser_source\u001b[0;34m()\u001b[0m\n",
      "\u001b[0;31mFileNotFoundError\u001b[0m: [Errno 2] File first_pass_data/2020_10_8_18_45_57_Gammas_0.5mm.csv does not exist: 'first_pass_data/2020_10_8_18_45_57_Gammas_0.5mm.csv'"
     ]
    }
   ],
   "source": [
    "# import data and investigate contents \n",
    "\n",
    "thick_0_5 = pd.read_csv('first_pass_data/2020_10_8_18_45_57_Gammas_0.5mm.csv')\n",
    "print(thick_0_5.columns)\n",
    "thick_0_5 = thick_0_5.loc[480:600]\n",
    "thick_0_5"
   ]
  },
  {
   "cell_type": "code",
   "execution_count": null,
   "metadata": {},
   "outputs": [],
   "source": [
    "thick_0_0 = pd.read_csv('first_pass_data/2020_10_8_18_29_31_Gammas_0_0mm.csv')\n",
    "thick_0_0 = thick_0_0.loc[480:600]\n",
    "thick_0_0"
   ]
  },
  {
   "cell_type": "code",
   "execution_count": null,
   "metadata": {},
   "outputs": [],
   "source": [
    "thick_0_5.plot(x = 'Channel', y='Counts', kind='scatter')\n",
    "# expected peak around 520 ish \n",
    "\n",
    "thick_0_0.plot(x = 'Channel', y='Counts', kind='scatter')"
   ]
  },
  {
   "cell_type": "code",
   "execution_count": null,
   "metadata": {},
   "outputs": [],
   "source": [
    "# we fit a gaussian to both and compute the integral under the curve\n",
    "\n",
    "def fit_model(x, A, mu, sigma, m, b):\n",
    "    return A*np.exp(-0.5*((x - mu)/sigma)**2) + m*x + b\n",
    "\n",
    "chan = thick_0_0['Channel'].to_numpy()\n",
    "\n",
    "pars_0_0, cov_0_0 = curve_fit(f=fit_model, xdata=chan, ydata=thick_0_0['Counts'], p0=[5000, 530, 30, 0.5, 0.5])\n",
    "pars_0_5, cov_0_5 = curve_fit(f=fit_model, xdata=chan, ydata=thick_0_5['Counts'], p0=[5000, 530, 30, 0.5, 0.5])\n",
    "\n",
    "fited_0_0 = fit_model(chan, pars_0_0[0], pars_0_0[1], pars_0_0[2], pars_0_0[3], pars_0_0[4])\n",
    "fited_0_5 = fit_model(chan, pars_0_5[0], pars_0_5[1], pars_0_5[2], pars_0_5[3], pars_0_5[4])\n",
    "\n",
    "# plot fit and data \n",
    "fig = plt.figure(figsize = (10,4))\n",
    "ax =fig.add_subplot(1,2,1)\n",
    "ay =fig.add_subplot(1,2,2)\n",
    "\n",
    "ax.plot(chan, thick_0_0['Counts'].to_numpy(), 'b.', label='data')\n",
    "ax.plot(chan, fit_model(chan, pars_0_0[0], pars_0_0[1], pars_0_0[2], pars_0_0[3], pars_0_0[4]), 'r-', label='exp_fit')\n",
    "ax.legend()\n",
    "ax.set_title('0.0 mm')\n",
    "\n",
    "ay.plot(chan, thick_0_5['Counts'].to_numpy(), 'b.', label='data')\n",
    "ay.plot(chan, fit_model(chan, pars_0_5[0], pars_0_5[1], pars_0_5[2], pars_0_5[3], pars_0_5[4]), 'r-', label='exp_fit')\n",
    "ay.legend()\n",
    "ay.set_title('0.5 mm')\n",
    "\n",
    "print(pars_0_0)"
   ]
  },
  {
   "cell_type": "code",
   "execution_count": null,
   "metadata": {},
   "outputs": [],
   "source": [
    "# integrate fits to find num photons reaching detector at 0 and 0.5 mm thickness \n",
    "\n",
    "fited_0_0 = lambda x : fit_model(x, pars_0_0[0], pars_0_0[1], pars_0_0[2], pars_0_0[3], pars_0_0[4])\n",
    "fited_0_5 = lambda x : fit_model(x, pars_0_5[0], pars_0_5[1], pars_0_5[2], pars_0_5[3], pars_0_5[4])\n",
    "N_0_0 = int_quad(fited_0_0, 480, 600)\n",
    "N_0_5 = int_quad(fited_0_5, 480, 600)\n",
    "\n",
    "print(N_0_5[0] / N_0_0[0])"
   ]
  },
  {
   "cell_type": "code",
   "execution_count": 5,
   "metadata": {},
   "outputs": [],
   "source": [
    "# duplicate above analysis for all thickness values and fit to exp(-lambda t)\n",
    "\n",
    "class Analysis:\n",
    "    # thickness expected in mm\n",
    "    # expect Channel and Counts fields in data\n",
    "    def __init__(self, filename, thickness):\n",
    "        # doing cut arbitrarily by eye here \n",
    "        # come up with better estimate for this\n",
    "        self.low = 480\n",
    "        self.high = 600\n",
    "        self.data = pd.read_csv(filename).loc[self.low:self.high]\n",
    "        self.chan = self.data['Channel'].to_numpy()\n",
    "\n",
    "    def fit_model(self, x, A, mu, sigma, m, b):\n",
    "        # model to be fitted\n",
    "        return A*np.exp(-0.5*((x - mu)/sigma)**2) + m*x + b\n",
    "    \n",
    "    def fit_params(self):\n",
    "        # return fit params\n",
    "        self.pars, self.cov = curve_fit(f=self.fit_model, xdata=self.chan, ydata=self.data['Counts'], p0=[5000, 530, 30, 0.5, 0.5])\n",
    "        return self.pars, self.cov\n",
    "    \n",
    "    def fit(self):\n",
    "        # returns fitted function evaluated on self.chan\n",
    "        self.pars, self.cov = self.fit_params()\n",
    "        self.fited = self.fit_model(self.chan, self.pars[0], self.pars[1], self.pars[2], self.pars[3], self.pars[4])\n",
    "        return self.fited\n",
    "    \n",
    "    def compute_gamma_num(self):\n",
    "        self.pars, self.cov = self.fit_params()\n",
    "        self._fited = lambda x : self.fit_model(x, self.pars[0], self.pars[1], self.pars[2], self.pars[3], self.pars[4])\n",
    "        self.N = int_quad(self._fited, self.low, self.high)\n",
    "        return self.N"
   ]
  },
  {
   "cell_type": "code",
   "execution_count": 6,
   "metadata": {},
   "outputs": [
    {
     "name": "stdout",
     "output_type": "stream",
     "text": [
      "0.9869501397394377\n",
      "[0.8, 3.2, 1.6, 0.4, 0.1, 0.0, 0.2, 0.05]\n",
      "[160220.57441822317, 113208.72697855593, 141920.5646614618, 169111.56247080394, 176775.14046724504, 180349.11701231293, 174056.4124213677, 177995.58623718645]\n"
     ]
    },
    {
     "data": {
      "text/plain": [
       "<matplotlib.legend.Legend at 0x7fda317c05b0>"
      ]
     },
     "execution_count": 6,
     "metadata": {},
     "output_type": "execute_result"
    },
    {
     "data": {
      "image/png": "[encoded data removed]",
      "text/plain": [
       "<Figure size 360x288 with 1 Axes>"
      ]
     },
     "metadata": {
      "needs_background": "light"
     },
     "output_type": "display_data"
    }
   ],
   "source": [
    "path = 'first_pass_data/2020_10_8/'\n",
    "files = [f for f in listdir(path) if isfile(join(path, f))]\n",
    "\n",
    "photon_nums = {} # thicknes : (nums, error)\n",
    "for file in files:\n",
    "    thickness = file[:-4] # some slice\n",
    "    analysis = Analysis(path+file, thickness)\n",
    "    photon_nums[thickness] = analysis.compute_gamma_num()\n",
    "\n",
    "#print(photon_nums)\n",
    "print(photon_nums['0.5mm'][0] / photon_nums['0.0mm'][0])\n",
    "\n",
    "thickness = [float(s[:-2]) / 10 for s in photon_nums.keys()]\n",
    "nums = [s[0] for s in photon_nums.values()] \n",
    "\n",
    "print(thickness)\n",
    "print(nums)\n",
    "\n",
    "fig, ax = plt.subplots(figsize = (5,4))\n",
    "\n",
    "ax.plot(thickness, nums, 'b.', label='photon_nums')\n",
    "ax.legend()"
   ]
  },
  {
   "cell_type": "code",
   "execution_count": null,
   "metadata": {},
   "outputs": [],
   "source": [
    "# fit exp(- lambda*w) to above data\n",
    "\n",
    "def cs_fit_model(x, lmda):\n",
    "    x = np.array(x)\n",
    "    return np.exp(-1*lmda*x)\n",
    "\n",
    "fitted_cross_section_params = curve_fit(f=cs_fit_model, xdata=thickness, ydata=nums, p0=[5])\n",
    "\n",
    "# plot fit and data \n",
    "fig, ax = plt.subplots(figsize = (5,4))\n",
    "fited_nums_log = np.log(cs_fit_model(thickness, fitted_cross_section_params[0][0]))\n",
    "\n",
    "ax.set_xlabel('Thickness (cm)')\n",
    "ax.set_ylabel('log(N/N_0)')\n",
    "\n",
    "ax.plot(thickness, np.log(nums), 'b.', label='log(N/N_0)')\n",
    "ax.plot(thickness, fited_nums_log, 'r-', label='fit')\n",
    "plt.figtext(0.2, 0.5, \"$\\lambda = $\" + str(fitted_cross_section_params[0][0])[:5] + '$cm^{-1}$')\n",
    "ax.legend()"
   ]
  },
  {
   "cell_type": "markdown",
   "metadata": {},
   "source": []
  }
 ],
 "metadata": {
  "kernelspec": {
   "display_name": "Python 3",
   "language": "python",
   "name": "python3"
  },
  "language_info": {
   "codemirror_mode": {
    "name": "ipython",
    "version": 3
   },
   "file_extension": ".py",
   "mimetype": "text/x-python",
   "name": "python",
   "nbconvert_exporter": "python",
   "pygments_lexer": "ipython3",
   "version": "3.8.3"
  }
 },
 "nbformat": 4,
 "nbformat_minor": 4
}
